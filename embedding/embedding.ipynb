{
 "cells": [
  {
   "cell_type": "markdown",
   "id": "f3a365cf",
   "metadata": {},
   "source": [
    "# nn.Embedding"
   ]
  },
  {
   "cell_type": "code",
   "execution_count": 1,
   "id": "9bb3bae5",
   "metadata": {},
   "outputs": [],
   "source": [
    "import torch\n",
    "import torch.nn as nn"
   ]
  },
  {
   "cell_type": "code",
   "execution_count": 2,
   "id": "6f401faa",
   "metadata": {},
   "outputs": [
    {
     "data": {
      "text/plain": [
       "'1.8.2+cu111'"
      ]
     },
     "execution_count": 2,
     "metadata": {},
     "output_type": "execute_result"
    }
   ],
   "source": [
    "torch.__version__"
   ]
  },
  {
   "cell_type": "markdown",
   "id": "0166bfc3",
   "metadata": {},
   "source": [
    "> A simple lookup table that stores embeddings of a fixed dictionary and size."
   ]
  },
  {
   "cell_type": "markdown",
   "id": "dba94e6b",
   "metadata": {},
   "source": [
    "## Example 1"
   ]
  },
  {
   "cell_type": "markdown",
   "id": "aafca7a9",
   "metadata": {},
   "source": [
    "Let's make $8 \\times 4$ size lookup table. This is one of the most common usage of `nn.Embedding`."
   ]
  },
  {
   "cell_type": "code",
   "execution_count": 3,
   "id": "d4e7dabc",
   "metadata": {},
   "outputs": [],
   "source": [
    "embedding_layer = nn.Embedding(num_embeddings=8, embedding_dim=4)"
   ]
  },
  {
   "cell_type": "code",
   "execution_count": 4,
   "id": "0e1bd44d",
   "metadata": {},
   "outputs": [
    {
     "data": {
      "text/plain": [
       "Parameter containing:\n",
       "tensor([[-3.3307e-01,  3.6703e-01,  1.0469e+00,  4.7747e-01],\n",
       "        [ 1.2580e+00, -8.4635e-01, -4.5423e-01,  7.3989e-01],\n",
       "        [-9.6321e-01, -5.6505e-01,  1.4820e+00, -1.4327e+00],\n",
       "        [ 1.3749e+00, -1.1486e+00,  1.7615e+00, -1.1193e+00],\n",
       "        [ 5.0136e-01,  3.7170e-02, -1.4641e+00,  5.2615e-01],\n",
       "        [-1.3963e+00,  7.1644e-02,  1.0268e+00,  2.0797e+00],\n",
       "        [ 1.2618e+00,  9.1458e-06, -3.5095e-02, -7.5799e-01],\n",
       "        [-9.7169e-02, -1.2832e-01,  8.4959e-01, -1.2375e+00]],\n",
       "       requires_grad=True)"
      ]
     },
     "execution_count": 4,
     "metadata": {},
     "output_type": "execute_result"
    }
   ],
   "source": [
    "embedding_layer.weight"
   ]
  },
  {
   "cell_type": "markdown",
   "id": "5ec8d80f",
   "metadata": {},
   "source": [
    "Weights of the embedding are embeddings themselves. Indexing will fetch the corresponding weights."
   ]
  },
  {
   "cell_type": "code",
   "execution_count": 5,
   "id": "b59afe08",
   "metadata": {},
   "outputs": [],
   "source": [
    "idx = torch.IntTensor([1, 3, 4])"
   ]
  },
  {
   "cell_type": "code",
   "execution_count": 6,
   "id": "cda1f8c7",
   "metadata": {},
   "outputs": [
    {
     "data": {
      "text/plain": [
       "tensor([[ 1.2580, -0.8463, -0.4542,  0.7399],\n",
       "        [ 1.3749, -1.1486,  1.7615, -1.1193],\n",
       "        [ 0.5014,  0.0372, -1.4641,  0.5262]], grad_fn=<EmbeddingBackward>)"
      ]
     },
     "execution_count": 6,
     "metadata": {},
     "output_type": "execute_result"
    }
   ],
   "source": [
    "embedding_layer(idx)"
   ]
  },
  {
   "cell_type": "markdown",
   "id": "6af6a3a3",
   "metadata": {},
   "source": [
    "## Example 2"
   ]
  },
  {
   "cell_type": "markdown",
   "id": "f821fbdd",
   "metadata": {},
   "source": [
    "Let's use other options. `padding_idx` will set the index to have zero weights, which will not be updated at training stage."
   ]
  },
  {
   "cell_type": "code",
   "execution_count": 7,
   "id": "52317cc4",
   "metadata": {},
   "outputs": [],
   "source": [
    "embedding_layer = nn.Embedding(num_embeddings=8, embedding_dim=4, padding_idx=2, max_norm=1, norm_type=2)"
   ]
  },
  {
   "cell_type": "code",
   "execution_count": 8,
   "id": "5193c72f",
   "metadata": {},
   "outputs": [
    {
     "data": {
      "text/plain": [
       "Parameter containing:\n",
       "tensor([[-0.2921,  0.3198, -1.4463, -0.0211],\n",
       "        [ 1.6262, -1.3835, -0.6565, -0.7844],\n",
       "        [ 0.0000,  0.0000,  0.0000,  0.0000],\n",
       "        [-0.2434,  0.1026,  0.3376,  2.4716],\n",
       "        [-1.1623, -0.2063,  0.7496,  0.3677],\n",
       "        [-1.6133, -1.6416,  0.2389, -0.4451],\n",
       "        [-1.8385, -0.1169,  0.0202,  0.8692],\n",
       "        [ 1.0441, -0.5111, -0.8074, -0.1289]], requires_grad=True)"
      ]
     },
     "execution_count": 8,
     "metadata": {},
     "output_type": "execute_result"
    }
   ],
   "source": [
    "embedding_layer.weight"
   ]
  },
  {
   "cell_type": "markdown",
   "id": "ba9bf532",
   "metadata": {},
   "source": [
    "Another interesting options are `max_norm`. `norm_type` parameter will decide the type of norm. Default is Frobenius norm."
   ]
  },
  {
   "cell_type": "code",
   "execution_count": 9,
   "id": "dd27d656",
   "metadata": {},
   "outputs": [
    {
     "data": {
      "text/plain": [
       "tensor([1.5099, 2.3675, 0.0000, 2.5085, 1.4459, 2.3564, 2.0371, 1.4212],\n",
       "       grad_fn=<CopyBackwards>)"
      ]
     },
     "execution_count": 9,
     "metadata": {},
     "output_type": "execute_result"
    }
   ],
   "source": [
    "embedding_layer.weight.norm(dim=-1)"
   ]
  },
  {
   "cell_type": "markdown",
   "id": "842e1451",
   "metadata": {},
   "source": [
    "Here, norm of each embeddings are not normalized to 1. This is unexpected, but followings will show how it works."
   ]
  },
  {
   "cell_type": "code",
   "execution_count": 10,
   "id": "2bdbbbee",
   "metadata": {},
   "outputs": [
    {
     "data": {
      "text/plain": [
       "tensor([[ 0.6869, -0.5844, -0.2773, -0.3313],\n",
       "        [-0.0970,  0.0409,  0.1346,  0.9853],\n",
       "        [-0.8039, -0.1427,  0.5184,  0.2543]], grad_fn=<EmbeddingBackward>)"
      ]
     },
     "execution_count": 10,
     "metadata": {},
     "output_type": "execute_result"
    }
   ],
   "source": [
    "embedding_layer(idx)"
   ]
  },
  {
   "cell_type": "markdown",
   "id": "9b253010",
   "metadata": {},
   "source": [
    "`embedding_layer` is queried from `idx`. After this forward pass, we can see that matrix weights are changed."
   ]
  },
  {
   "cell_type": "code",
   "execution_count": 11,
   "id": "c7670a5c",
   "metadata": {},
   "outputs": [
    {
     "data": {
      "text/plain": [
       "Parameter containing:\n",
       "tensor([[-0.2921,  0.3198, -1.4463, -0.0211],\n",
       "        [ 0.6869, -0.5844, -0.2773, -0.3313],\n",
       "        [ 0.0000,  0.0000,  0.0000,  0.0000],\n",
       "        [-0.0970,  0.0409,  0.1346,  0.9853],\n",
       "        [-0.8039, -0.1427,  0.5184,  0.2543],\n",
       "        [-1.6133, -1.6416,  0.2389, -0.4451],\n",
       "        [-1.8385, -0.1169,  0.0202,  0.8692],\n",
       "        [ 1.0441, -0.5111, -0.8074, -0.1289]], requires_grad=True)"
      ]
     },
     "execution_count": 11,
     "metadata": {},
     "output_type": "execute_result"
    }
   ],
   "source": [
    "embedding_layer.weight"
   ]
  },
  {
   "cell_type": "code",
   "execution_count": 12,
   "id": "15d35f3c",
   "metadata": {},
   "outputs": [
    {
     "data": {
      "text/plain": [
       "tensor([1.5099, 1.0000, 0.0000, 1.0000, 1.0000, 2.3564, 2.0371, 1.4212],\n",
       "       grad_fn=<CopyBackwards>)"
      ]
     },
     "execution_count": 12,
     "metadata": {},
     "output_type": "execute_result"
    }
   ],
   "source": [
    "embedding_layer.weight.norm(dim=-1)"
   ]
  },
  {
   "cell_type": "markdown",
   "id": "d94b2d7f",
   "metadata": {},
   "source": [
    "And the queries embeddings are normalized to the given `max_norm`. We can guess that the normalization works on-line. Following blocks support this."
   ]
  },
  {
   "cell_type": "code",
   "execution_count": 13,
   "id": "03a4be5c",
   "metadata": {},
   "outputs": [
    {
     "data": {
      "text/plain": [
       "tensor([1.0000, 1.0000, 0.0000, 1.0000, 1.0000, 2.3564, 2.0371, 1.4212],\n",
       "       grad_fn=<CopyBackwards>)"
      ]
     },
     "execution_count": 13,
     "metadata": {},
     "output_type": "execute_result"
    }
   ],
   "source": [
    "idx = torch.IntTensor([0, 2])\n",
    "embedding_layer(idx)\n",
    "embedding_layer.weight.norm(dim=-1)"
   ]
  },
  {
   "cell_type": "code",
   "execution_count": 14,
   "id": "40c244c1",
   "metadata": {},
   "outputs": [
    {
     "data": {
      "text/plain": [
       "tensor([1.0000, 1.0000, 0.0000, 1.0000, 1.0000, 2.3564, 2.0371, 1.0000],\n",
       "       grad_fn=<CopyBackwards>)"
      ]
     },
     "execution_count": 14,
     "metadata": {},
     "output_type": "execute_result"
    }
   ],
   "source": [
    "idx = torch.IntTensor([7])\n",
    "embedding_layer(idx)\n",
    "embedding_layer.weight.norm(dim=-1)"
   ]
  }
 ],
 "metadata": {
  "kernelspec": {
   "display_name": "Python 3 (ipykernel)",
   "language": "python",
   "name": "python3"
  },
  "language_info": {
   "codemirror_mode": {
    "name": "ipython",
    "version": 3
   },
   "file_extension": ".py",
   "mimetype": "text/x-python",
   "name": "python",
   "nbconvert_exporter": "python",
   "pygments_lexer": "ipython3",
   "version": "3.7.12"
  }
 },
 "nbformat": 4,
 "nbformat_minor": 5
}
